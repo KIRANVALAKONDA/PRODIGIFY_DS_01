{
 "cells": [
  {
   "cell_type": "markdown",
   "id": "6775323e",
   "metadata": {},
   "source": [
    "# Task 02 – Data Cleaning & EDA\n",
    "\n",
    "> Auto-generated starter notebook. Run cells top-to-bottom. Edit paths as needed."
   ]
  },
  {
   "cell_type": "code",
   "execution_count": null,
   "id": "07b13f6e",
   "metadata": {},
   "outputs": [],
   "source": [
    "# If running on Colab, uncomment the next line to install missing packages\n",
    "# !pip install pandas numpy matplotlib scikit-learn textblob wordcloud folium plotly missingno --quiet\n",
    "import pandas as pd\n",
    "import numpy as np\n",
    "import matplotlib.pyplot as plt\n",
    "plt.rcParams['figure.figsize'] = (8,5)\n"
   ]
  },
  {
   "cell_type": "markdown",
   "id": "2d3a0e7c",
   "metadata": {},
   "source": [
    "## 1. Load Data"
   ]
  },
  {
   "cell_type": "code",
   "execution_count": null,
   "id": "1667f2c2",
   "metadata": {},
   "outputs": [],
   "source": [
    "csv_path = 'task2_data.csv'  # e.g., Titanic/train.csv or provided dataset\n",
    "df = pd.read_csv(csv_path)\n",
    "df.head()"
   ]
  },
  {
   "cell_type": "markdown",
   "id": "ab953e0d",
   "metadata": {},
   "source": [
    "## 2. Missing Values Overview"
   ]
  },
  {
   "cell_type": "code",
   "execution_count": null,
   "id": "f1baf65e",
   "metadata": {},
   "outputs": [],
   "source": [
    "df.isnull().sum().sort_values(ascending=False)"
   ]
  },
  {
   "cell_type": "markdown",
   "id": "8fd725b1",
   "metadata": {},
   "source": [
    "## 3. Basic Cleaning (example imputation)"
   ]
  },
  {
   "cell_type": "code",
   "execution_count": null,
   "id": "d59fe2b7",
   "metadata": {},
   "outputs": [],
   "source": [
    "# Numeric impute with median; categorical with mode\n",
    "for c in df.columns:\n",
    "    if df[c].isnull().any():\n",
    "        if pd.api.types.is_numeric_dtype(df[c]):\n",
    "            df[c] = df[c].fillna(df[c].median())\n",
    "        else:\n",
    "            df[c] = df[c].fillna(df[c].mode().iloc[0])\n",
    "df.head(3)"
   ]
  },
  {
   "cell_type": "markdown",
   "id": "2dc14f34",
   "metadata": {},
   "source": [
    "## 4. Descriptives & Distributions"
   ]
  },
  {
   "cell_type": "code",
   "execution_count": null,
   "id": "8e42e524",
   "metadata": {},
   "outputs": [],
   "source": [
    "df.describe(include='all')"
   ]
  },
  {
   "cell_type": "code",
   "execution_count": null,
   "id": "130e2ed4",
   "metadata": {},
   "outputs": [],
   "source": [
    "num_cols = df.select_dtypes(include=np.number).columns[:6]\n",
    "for c in num_cols:\n",
    "    plt.figure(); df[c].plot(kind='hist', bins=20); plt.title(f'Histogram of {c}'); plt.xlabel(c); plt.tight_layout(); plt.show()"
   ]
  },
  {
   "cell_type": "markdown",
   "id": "9e9ada04",
   "metadata": {},
   "source": [
    "## 5. Correlations (numeric)"
   ]
  },
  {
   "cell_type": "code",
   "execution_count": null,
   "id": "94fcd02d",
   "metadata": {},
   "outputs": [],
   "source": [
    "corr = df.select_dtypes(include=np.number).corr()\n",
    "plt.figure(); plt.imshow(corr, interpolation='nearest'); plt.title('Correlation Heatmap'); plt.colorbar(); plt.xticks(range(len(corr)), corr.columns, rotation=90); plt.yticks(range(len(corr)), corr.columns); plt.tight_layout(); plt.show()"
   ]
  },
  {
   "cell_type": "markdown",
   "id": "0a47464d",
   "metadata": {},
   "source": [
    "## 6. Save Cleaned Data"
   ]
  },
  {
   "cell_type": "code",
   "execution_count": null,
   "id": "81696601",
   "metadata": {},
   "outputs": [],
   "source": [
    "df.to_csv('task02_clean.csv', index=False)"
   ]
  }
 ],
 "metadata": {},
 "nbformat": 4,
 "nbformat_minor": 5
}
